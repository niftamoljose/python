{
  "nbformat": 4,
  "nbformat_minor": 0,
  "metadata": {
    "colab": {
      "name": "CYCLE2.ipynb",
      "provenance": [],
      "collapsed_sections": []
    },
    "kernelspec": {
      "name": "python3",
      "display_name": "Python 3"
    }
  },
  "cells": [
    {
      "cell_type": "code",
      "metadata": {
        "colab": {
          "base_uri": "https://localhost:8080/"
        },
        "id": "RozMyjgCw5gf",
        "outputId": "fdcaf3be-b90f-455c-b025-7c753c0561a0"
      },
      "source": [
        "txt = \"apple mango strawberry jam apple jam jam mango \"\r\n",
        "\r\n",
        "x = txt.count(\"apple\")\r\n",
        "y = txt.count(\"mango\")\r\n",
        "z = txt.count(\"strawberry\")\r\n",
        "p = txt.count(\"jam\")\r\n",
        "\r\n",
        "\r\n",
        "print(x,y,z,p)"
      ],
      "execution_count": null,
      "outputs": [
        {
          "output_type": "stream",
          "text": [
            "2 2 1 3\n"
          ],
          "name": "stdout"
        }
      ]
    },
    {
      "cell_type": "code",
      "metadata": {
        "colab": {
          "base_uri": "https://localhost:8080/"
        },
        "id": "SsYf4ibPm9yi",
        "outputId": "6e2d3835-cae5-468e-8200-7aebe49d80f9"
      },
      "source": [
        "x=[]\r\n",
        "n=int(input(\"enter any integers\"))\r\n",
        "for i in range(1,n+1):\r\n",
        " a=int(input())\r\n",
        " if(a>100):\r\n",
        "  x.append('over')\r\n",
        " else:\r\n",
        "  x.append(a)\r\n",
        "print(\"modified list:\",x)"
      ],
      "execution_count": 12,
      "outputs": [
        {
          "output_type": "stream",
          "text": [
            "enter any integers3\n",
            "4\n",
            "5\n",
            "6\n",
            "modified list: [4, 5, 6]\n"
          ],
          "name": "stdout"
        }
      ]
    },
    {
      "cell_type": "code",
      "metadata": {
        "colab": {
          "base_uri": "https://localhost:8080/"
        },
        "id": "WNrrX8sh60m2",
        "outputId": "5cb264e5-b9de-4014-b103-c690c4459d42"
      },
      "source": [
        "import operator\r\n",
        "d = {1: 2, 3: 4, 4: 3, 2: 1, 0: 0}\r\n",
        "print('Original dictionary : ',d)\r\n",
        "sorted_d = sorted(d.items(), key=operator.itemgetter(1))\r\n",
        "print('Dictionary in ascending order by value : ',sorted_d)\r\n",
        "sorted_d = dict( sorted(d.items(), key=operator.itemgetter(1),reverse=True))\r\n",
        "print('Dictionary in descending order by value : ',sorted_d)"
      ],
      "execution_count": null,
      "outputs": [
        {
          "output_type": "stream",
          "text": [
            "Original dictionary :  {1: 2, 3: 4, 4: 3, 2: 1, 0: 0}\n",
            "Dictionary in ascending order by value :  [(0, 0), (2, 1), (1, 2), (4, 3), (3, 4)]\n",
            "Dictionary in descending order by value :  {3: 4, 4: 3, 1: 2, 2: 1, 0: 0}\n"
          ],
          "name": "stdout"
        }
      ]
    },
    {
      "cell_type": "code",
      "metadata": {
        "colab": {
          "base_uri": "https://localhost:8080/"
        },
        "id": "hKO83JOu7vJK",
        "outputId": "e0cd073c-e660-4366-9a97-cdcee0b47d1f"
      },
      "source": [
        "num1 = int(input(\"Enter 1st number: \"))\r\n",
        "num2 = int(input(\"Enter 2nd number: \"))\r\n",
        "i = 1\r\n",
        "while(i <= num1 and i <= num2):\r\n",
        "  if(num1 % i == 0 and num2 % i == 0):\r\n",
        "    gcd = i\r\n",
        "  i = i + 1\r\n",
        "print(\"GCD is\", gcd)"
      ],
      "execution_count": null,
      "outputs": [
        {
          "output_type": "stream",
          "text": [
            "Enter 1st number: 100\n",
            "Enter 2nd number: 30\n",
            "GCD is 10\n"
          ],
          "name": "stdout"
        }
      ]
    },
    {
      "cell_type": "code",
      "metadata": {
        "id": "lHJbiHMaC3lU"
      },
      "source": [
        ""
      ],
      "execution_count": null,
      "outputs": []
    },
    {
      "cell_type": "code",
      "metadata": {
        "colab": {
          "base_uri": "https://localhost:8080/"
        },
        "id": "yOLFKXpWFbK7",
        "outputId": "c15f9d17-63e5-4d21-ba9f-d1a8a058bd56"
      },
      "source": [
        "def common_data(list1, list2): \r\n",
        "    result = False\r\n",
        "  \r\n",
        "   \r\n",
        "    for x in list1: \r\n",
        "  \r\n",
        "       \r\n",
        "        for y in list2: \r\n",
        "    \r\n",
        "           \r\n",
        "            if x == y: \r\n",
        "                result = True\r\n",
        "                return result  \r\n",
        "                  \r\n",
        "    return result \r\n",
        "      \r\n",
        " \r\n",
        "a = [1, 2, 3, 4, 5] \r\n",
        "b = [5, 6, 7, 8, 9] \r\n",
        "print(common_data(a, b)) \r\n",
        "  \r\n",
        "a = [1, 2, 3, 4, 5] \r\n",
        "b = [6, 7, 8, 9] \r\n",
        "print(common_data(a, b)) "
      ],
      "execution_count": null,
      "outputs": [
        {
          "output_type": "stream",
          "text": [
            "True\n",
            "False\n"
          ],
          "name": "stdout"
        }
      ]
    },
    {
      "cell_type": "code",
      "metadata": {
        "colab": {
          "base_uri": "https://localhost:8080/"
        },
        "id": "YF0IGsf4-HWH",
        "outputId": "35597b32-bce1-42b3-e7a0-37e218f2ee33"
      },
      "source": [
        "\r\n",
        "a_list = [\"a\", \"b\", \"a\"]\r\n",
        "occurrences = a_list.count(\"a\")\r\n",
        "print(occurrences)"
      ],
      "execution_count": null,
      "outputs": [
        {
          "output_type": "stream",
          "text": [
            "2\n"
          ],
          "name": "stdout"
        }
      ]
    },
    {
      "cell_type": "code",
      "metadata": {
        "colab": {
          "base_uri": "https://localhost:8080/"
        },
        "id": "lMLcXgxOGsfQ",
        "outputId": "cea602ad-fcf8-453b-f794-0577fae846fc"
      },
      "source": [
        "def change_char(str1):\r\n",
        "  char = str1[0]\r\n",
        "  str1 = str1.replace(char, '$')\r\n",
        "  str1 = char + str1[1:]\r\n",
        "\r\n",
        "  return str1\r\n",
        "\r\n",
        "print(change_char('restart'))"
      ],
      "execution_count": null,
      "outputs": [
        {
          "output_type": "stream",
          "text": [
            "resta$t\n"
          ],
          "name": "stdout"
        }
      ]
    },
    {
      "cell_type": "code",
      "metadata": {
        "colab": {
          "base_uri": "https://localhost:8080/"
        },
        "id": "kHq5Nz2MHyP7",
        "outputId": "cc0fef08-a851-4d61-84a3-7e74b2b8bb8f"
      },
      "source": [
        "from math import pi\r\n",
        "r = float(input (\"Input the radius of the circle : \"))\r\n",
        "print (\"The area of the circle with radius \" + str(r) + \" is: \" + str(pi * r**2))"
      ],
      "execution_count": null,
      "outputs": [
        {
          "output_type": "stream",
          "text": [
            "Input the radius of the circle : 2\n",
            "The area of the circle with radius 2.0 is: 12.566370614359172\n"
          ],
          "name": "stdout"
        }
      ]
    },
    {
      "cell_type": "code",
      "metadata": {
        "colab": {
          "base_uri": "https://localhost:8080/"
        },
        "id": "_tATtYQ6IoPy",
        "outputId": "92623922-f1f8-4cea-e630-44120dc66b5c"
      },
      "source": [
        "color_list = [\"Red\",\"Green\",\"White\" ,\"Black\"]\r\n",
        "print( \"%s %s\"%(color_list[0],color_list[-1]))"
      ],
      "execution_count": null,
      "outputs": [
        {
          "output_type": "stream",
          "text": [
            "Red Black\n"
          ],
          "name": "stdout"
        }
      ]
    },
    {
      "cell_type": "code",
      "metadata": {
        "colab": {
          "base_uri": "https://localhost:8080/"
        },
        "id": "DH4El6VZI_f-",
        "outputId": "d5791277-22d8-456f-bcbd-a907791275ed"
      },
      "source": [
        "a = int(input(\"Input an integer : \"))\r\n",
        "n1 = int( \"%s\" % a )\r\n",
        "n2 = int( \"%s%s\" % (a,a) )\r\n",
        "n3 = int( \"%s%s%s\" % (a,a,a) )\r\n",
        "print (n1+n2+n3)"
      ],
      "execution_count": null,
      "outputs": [
        {
          "output_type": "stream",
          "text": [
            "Input an integer : 12\n",
            "122436\n"
          ],
          "name": "stdout"
        }
      ]
    },
    {
      "cell_type": "code",
      "metadata": {
        "colab": {
          "base_uri": "https://localhost:8080/"
        },
        "id": "U8-DWcEk_so3",
        "outputId": "86ebf335-08a8-42e7-9bff-1287230bc006"
      },
      "source": [
        "num1 = float(input(\"Enter first number: \"))\r\n",
        "num2 = float(input(\"Enter second number: \"))\r\n",
        "num3 = float(input(\"Enter third number: \"))\r\n",
        " \r\n",
        "if (num1 > num2) and (num1 > num3):\r\n",
        "   largest = num1\r\n",
        "elif (num2 > num1) and (num2 > num3):\r\n",
        "   largest = num2\r\n",
        "else:\r\n",
        "   largest = num3\r\n",
        " \r\n",
        "print(\"The largest number is\",largest)"
      ],
      "execution_count": null,
      "outputs": [
        {
          "output_type": "stream",
          "text": [
            "Enter first number: 4.3\n",
            "Enter second number: 3.4\n",
            "Enter third number: 3\n",
            "The largest number is 4.3\n"
          ],
          "name": "stdout"
        }
      ]
    },
    {
      "cell_type": "code",
      "metadata": {
        "colab": {
          "base_uri": "https://localhost:8080/"
        },
        "id": "Y48Yh7JPKBFK",
        "outputId": "c2b13608-6d85-4ffd-dd70-0a04d421b9ed"
      },
      "source": [
        "y=int(input(\"enter the final year\"))\r\n",
        "print(\"Future leap years from 2021\")\r\n",
        "for x in range (2021,y+1):\r\n",
        " if((x%4==0) and(x%100!=0)) or (x%100==0):\r\n",
        "   print(x)"
      ],
      "execution_count": null,
      "outputs": [
        {
          "output_type": "stream",
          "text": [
            "enter the final year2050\n",
            "Future leap years from 2021\n",
            "2024\n",
            "2028\n",
            "2032\n",
            "2036\n",
            "2040\n",
            "2044\n",
            "2048\n"
          ],
          "name": "stdout"
        }
      ]
    },
    {
      "cell_type": "code",
      "metadata": {
        "colab": {
          "base_uri": "https://localhost:8080/"
        },
        "id": "lmhVYm7LMAt6",
        "outputId": "81c53fd1-9b23-4e9e-a4ce-48f55027c72d"
      },
      "source": [
        "filename = input(\"Input the Filename: \")\r\n",
        "f_extns = filename.split(\".\")\r\n",
        "print (\"The extension of the file is : \" + repr(f_extns[-1]))"
      ],
      "execution_count": null,
      "outputs": [
        {
          "output_type": "stream",
          "text": [
            "Input the Filename: ah.java\n",
            "The extension of the file is : 'java'\n"
          ],
          "name": "stdout"
        }
      ]
    },
    {
      "cell_type": "code",
      "metadata": {
        "id": "evoI4yovNdKo",
        "colab": {
          "base_uri": "https://localhost:8080/"
        },
        "outputId": "baf00d9c-9f65-41b5-bb46-872c119f65b6"
      },
      "source": [
        "list = [32, 21, 0, -45, 6,-6, 9, 13, 22, 16, -9] \r\n",
        "for num in list:  \r\n",
        "    if num >= 0: \r\n",
        "       print(num, end = \" \") "
      ],
      "execution_count": null,
      "outputs": [
        {
          "output_type": "stream",
          "text": [
            "32 21 0 6 9 13 22 16 "
          ],
          "name": "stdout"
        }
      ]
    },
    {
      "cell_type": "code",
      "metadata": {
        "colab": {
          "base_uri": "https://localhost:8080/"
        },
        "id": "mD_WTkax1bQv",
        "outputId": "a3c76f82-5b02-4053-dbf1-676d41b9ddaa"
      },
      "source": [
        "\r\n",
        "def swap(string): \r\n",
        "\t\r\n",
        "\tstart = string[0] \r\n",
        "\tend = string[-1] \r\n",
        "\t\r\n",
        "\tswapped_string = end + string[1:-1] + start \r\n",
        "\tprint(swapped_string) \r\n",
        "\t\r\n",
        "swap(\"apple\") \r\n",
        "swap(\"orange\")\r\n"
      ],
      "execution_count": null,
      "outputs": [
        {
          "output_type": "stream",
          "text": [
            "eppla\n",
            "erango\n"
          ],
          "name": "stdout"
        }
      ]
    },
    {
      "cell_type": "code",
      "metadata": {
        "colab": {
          "base_uri": "https://localhost:8080/"
        },
        "id": "nKAx5yVi24R3",
        "outputId": "2a269b08-2ec3-49c0-c174-86b5c3228f90"
      },
      "source": [
        "def chars_mix_up(a, b):\r\n",
        "  new_a = b[:2] + a[2:]\r\n",
        "  new_b = a[:2] + b[2:]\r\n",
        "\r\n",
        "  return new_a + ' ' + new_b\r\n",
        "print(chars_mix_up('bin', 'cat'))"
      ],
      "execution_count": null,
      "outputs": [
        {
          "output_type": "stream",
          "text": [
            "can bit\n"
          ],
          "name": "stdout"
        }
      ]
    },
    {
      "cell_type": "code",
      "metadata": {
        "colab": {
          "base_uri": "https://localhost:8080/"
        },
        "id": "HY-_qrRd65Is",
        "outputId": "af71329a-afbc-4484-da71-ce92264fb3a1"
      },
      "source": [
        "num = [7,8, 120, 25, 44, 21, 27, 65, 218 ]\r\n",
        "num = [x for x in num if x%2!=0]\r\n",
        "print(num)"
      ],
      "execution_count": null,
      "outputs": [
        {
          "output_type": "stream",
          "text": [
            "[7, 25, 21, 27, 65]\n"
          ],
          "name": "stdout"
        }
      ]
    },
    {
      "cell_type": "code",
      "metadata": {
        "colab": {
          "base_uri": "https://localhost:8080/"
        },
        "id": "3bW6OuGT_PjA",
        "outputId": "9ebc8c45-b0d6-4b26-f10a-64833095ddb4"
      },
      "source": [
        "color_list_1 = set([\"Green\",\"Blue\",\"White\" ,\"Pink\",\"Yellow\",\"Maroon\"])\r\n",
        "color_list_2 = set([\"Black\", \"Yellow\",\"Red\",\"orange\"])\r\n",
        "\r\n",
        "print(color_list_2.difference(color_list_1))\r\n"
      ],
      "execution_count": null,
      "outputs": [
        {
          "output_type": "stream",
          "text": [
            "{'Black', 'Red', 'orange'}\n"
          ],
          "name": "stdout"
        }
      ]
    },
    {
      "cell_type": "code",
      "metadata": {
        "colab": {
          "base_uri": "https://localhost:8080/"
        },
        "id": "5kdGzaovvMe3",
        "outputId": "f159098f-ca50-4682-dd26-a870de184891"
      },
      "source": [
        "def Merge(dict1, dict2):\r\n",
        "    return(dict2.update(dict1))\r\n",
        "dict1 = {'p': 20, 'q': 18}\r\n",
        "dict2 = {'r': 10, 's': 5}\r\n",
        "print(Merge(dict1, dict2))\r\n",
        "print(dict2)"
      ],
      "execution_count": null,
      "outputs": [
        {
          "output_type": "stream",
          "text": [
            "None\n",
            "{'r': 10, 's': 5, 'p': 20, 'q': 18}\n"
          ],
          "name": "stdout"
        }
      ]
    },
    {
      "cell_type": "code",
      "metadata": {
        "colab": {
          "base_uri": "https://localhost:8080/"
        },
        "id": "5TPbR415sUtT",
        "outputId": "4a6ceffc-dfa2-4468-bd3a-256e229ed338"
      },
      "source": [
        "mylist=[2,3,-4,-5,-3,8,9,1,23,-10]\r\n",
        "print(\"First list :\",mylist)\r\n",
        "newlist=[x for x in mylist if x > 0]\r\n",
        "print(\"New list:\",newlist)"
      ],
      "execution_count": 14,
      "outputs": [
        {
          "output_type": "stream",
          "text": [
            "First list : [2, 3, -4, -5, -3, 8, 9, 1, 23, -10]\n",
            "New list: [2, 3, 8, 9, 1, 23]\n"
          ],
          "name": "stdout"
        }
      ]
    },
    {
      "cell_type": "code",
      "metadata": {
        "colab": {
          "base_uri": "https://localhost:8080/"
        },
        "id": "FJxaxT6Isvmn",
        "outputId": "927f9099-130a-4479-e3be-e5b562b3328c"
      },
      "source": [
        "print(\"\\nSquare of n nos from given list\\n\")\r\n",
        "mylist=[12,8,4,6]\r\n",
        "print(\"First List\",mylist);\r\n",
        "newlist=[number ** 2 for number in mylist] \r\n",
        "print(\"new list\",newlist)\r\n"
      ],
      "execution_count": 16,
      "outputs": [
        {
          "output_type": "stream",
          "text": [
            "\n",
            "Square of n nos from given list\n",
            "\n",
            "First List [12, 8, 4, 6]\n",
            "new list [144, 64, 16, 36]\n"
          ],
          "name": "stdout"
        }
      ]
    },
    {
      "cell_type": "code",
      "metadata": {
        "colab": {
          "base_uri": "https://localhost:8080/"
        },
        "id": "pJJ3tIAhtoMT",
        "outputId": "55f16cc9-8660-44a8-9343-98002c8f4699"
      },
      "source": [
        "print(\"\\nForm a list of vowels selected from ENGLISH\\n\")\r\n",
        "[x for x in 'ENGLISH' if x in ['A','E','I','O','U']]"
      ],
      "execution_count": 18,
      "outputs": [
        {
          "output_type": "stream",
          "text": [
            "\n",
            "Form a list of vowels selected from ENGLISH\n",
            "\n"
          ],
          "name": "stdout"
        },
        {
          "output_type": "execute_result",
          "data": {
            "text/plain": [
              "['E', 'I']"
            ]
          },
          "metadata": {
            "tags": []
          },
          "execution_count": 18
        }
      ]
    }
  ]
}