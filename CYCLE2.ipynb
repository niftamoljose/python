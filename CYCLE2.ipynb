{
  "nbformat": 4,
  "nbformat_minor": 0,
  "metadata": {
    "colab": {
      "name": "CYCLE2.ipynb",
      "provenance": [],
      "collapsed_sections": []
    },
    "kernelspec": {
      "name": "python3",
      "display_name": "Python 3"
    }
  },
  "cells": [
    {
      "cell_type": "code",
      "metadata": {
        "colab": {
          "base_uri": "https://localhost:8080/"
        },
        "id": "RozMyjgCw5gf",
        "outputId": "fdcaf3be-b90f-455c-b025-7c753c0561a0"
      },
      "source": [
        "txt = \"apple mango strawberry jam apple jam jam mango \"\r\n",
        "\r\n",
        "x = txt.count(\"apple\")\r\n",
        "y = txt.count(\"mango\")\r\n",
        "z = txt.count(\"strawberry\")\r\n",
        "p = txt.count(\"jam\")\r\n",
        "\r\n",
        "\r\n",
        "print(x,y,z,p)"
      ],
      "execution_count": null,
      "outputs": [
        {
          "output_type": "stream",
          "text": [
            "2 2 1 3\n"
          ],
          "name": "stdout"
        }
      ]
    },
    {
      "cell_type": "code",
      "metadata": {
        "colab": {
          "base_uri": "https://localhost:8080/"
        },
        "id": "U8-DWcEk_so3",
        "outputId": "86ebf335-08a8-42e7-9bff-1287230bc006"
      },
      "source": [
        "num1 = float(input(\"Enter first number: \"))\r\n",
        "num2 = float(input(\"Enter second number: \"))\r\n",
        "num3 = float(input(\"Enter third number: \"))\r\n",
        " \r\n",
        "if (num1 > num2) and (num1 > num3):\r\n",
        "   largest = num1\r\n",
        "elif (num2 > num1) and (num2 > num3):\r\n",
        "   largest = num2\r\n",
        "else:\r\n",
        "   largest = num3\r\n",
        " \r\n",
        "print(\"The largest number is\",largest)"
      ],
      "execution_count": null,
      "outputs": [
        {
          "output_type": "stream",
          "text": [
            "Enter first number: 4.3\n",
            "Enter second number: 3.4\n",
            "Enter third number: 3\n",
            "The largest number is 4.3\n"
          ],
          "name": "stdout"
        }
      ]
    },
    {
      "cell_type": "code",
      "metadata": {
        "colab": {
          "base_uri": "https://localhost:8080/"
        },
        "id": "Y48Yh7JPKBFK",
        "outputId": "c2b13608-6d85-4ffd-dd70-0a04d421b9ed"
      },
      "source": [
        "y=int(input(\"enter the final year\"))\r\n",
        "print(\"Future leap years from 2021\")\r\n",
        "for x in range (2021,y+1):\r\n",
        " if((x%4==0) and(x%100!=0)) or (x%100==0):\r\n",
        "   print(x)"
      ],
      "execution_count": 4,
      "outputs": [
        {
          "output_type": "stream",
          "text": [
            "enter the final year2050\n",
            "Future leap years from 2021\n",
            "2024\n",
            "2028\n",
            "2032\n",
            "2036\n",
            "2040\n",
            "2044\n",
            "2048\n"
          ],
          "name": "stdout"
        }
      ]
    },
    {
      "cell_type": "code",
      "metadata": {
        "colab": {
          "base_uri": "https://localhost:8080/"
        },
        "id": "lmhVYm7LMAt6",
        "outputId": "81c53fd1-9b23-4e9e-a4ce-48f55027c72d"
      },
      "source": [
        "filename = input(\"Input the Filename: \")\r\n",
        "f_extns = filename.split(\".\")\r\n",
        "print (\"The extension of the file is : \" + repr(f_extns[-1]))"
      ],
      "execution_count": null,
      "outputs": [
        {
          "output_type": "stream",
          "text": [
            "Input the Filename: ah.java\n",
            "The extension of the file is : 'java'\n"
          ],
          "name": "stdout"
        }
      ]
    },
    {
      "cell_type": "code",
      "metadata": {
        "id": "evoI4yovNdKo",
        "colab": {
          "base_uri": "https://localhost:8080/"
        },
        "outputId": "baf00d9c-9f65-41b5-bb46-872c119f65b6"
      },
      "source": [
        "list = [32, 21, 0, -45, 6,-6, 9, 13, 22, 16, -9] \r\n",
        "for num in list:  \r\n",
        "    if num >= 0: \r\n",
        "       print(num, end = \" \") "
      ],
      "execution_count": null,
      "outputs": [
        {
          "output_type": "stream",
          "text": [
            "32 21 0 6 9 13 22 16 "
          ],
          "name": "stdout"
        }
      ]
    },
    {
      "cell_type": "code",
      "metadata": {
        "colab": {
          "base_uri": "https://localhost:8080/"
        },
        "id": "mD_WTkax1bQv",
        "outputId": "a3c76f82-5b02-4053-dbf1-676d41b9ddaa"
      },
      "source": [
        "\r\n",
        "def swap(string): \r\n",
        "\t\r\n",
        "\tstart = string[0] \r\n",
        "\tend = string[-1] \r\n",
        "\t\r\n",
        "\tswapped_string = end + string[1:-1] + start \r\n",
        "\tprint(swapped_string) \r\n",
        "\t\r\n",
        "swap(\"apple\") \r\n",
        "swap(\"orange\")\r\n"
      ],
      "execution_count": null,
      "outputs": [
        {
          "output_type": "stream",
          "text": [
            "eppla\n",
            "erango\n"
          ],
          "name": "stdout"
        }
      ]
    },
    {
      "cell_type": "code",
      "metadata": {
        "colab": {
          "base_uri": "https://localhost:8080/"
        },
        "id": "nKAx5yVi24R3",
        "outputId": "2a269b08-2ec3-49c0-c174-86b5c3228f90"
      },
      "source": [
        "def chars_mix_up(a, b):\r\n",
        "  new_a = b[:2] + a[2:]\r\n",
        "  new_b = a[:2] + b[2:]\r\n",
        "\r\n",
        "  return new_a + ' ' + new_b\r\n",
        "print(chars_mix_up('bin', 'cat'))"
      ],
      "execution_count": null,
      "outputs": [
        {
          "output_type": "stream",
          "text": [
            "can bit\n"
          ],
          "name": "stdout"
        }
      ]
    },
    {
      "cell_type": "code",
      "metadata": {
        "colab": {
          "base_uri": "https://localhost:8080/"
        },
        "id": "HY-_qrRd65Is",
        "outputId": "af71329a-afbc-4484-da71-ce92264fb3a1"
      },
      "source": [
        "num = [7,8, 120, 25, 44, 21, 27, 65, 218 ]\r\n",
        "num = [x for x in num if x%2!=0]\r\n",
        "print(num)"
      ],
      "execution_count": null,
      "outputs": [
        {
          "output_type": "stream",
          "text": [
            "[7, 25, 21, 27, 65]\n"
          ],
          "name": "stdout"
        }
      ]
    },
    {
      "cell_type": "code",
      "metadata": {
        "colab": {
          "base_uri": "https://localhost:8080/"
        },
        "id": "3bW6OuGT_PjA",
        "outputId": "9ebc8c45-b0d6-4b26-f10a-64833095ddb4"
      },
      "source": [
        "color_list_1 = set([\"Green\",\"Blue\",\"White\" ,\"Pink\",\"Yellow\",\"Maroon\"])\r\n",
        "color_list_2 = set([\"Black\", \"Yellow\",\"Red\",\"orange\"])\r\n",
        "\r\n",
        "print(color_list_2.difference(color_list_1))\r\n"
      ],
      "execution_count": null,
      "outputs": [
        {
          "output_type": "stream",
          "text": [
            "{'Black', 'Red', 'orange'}\n"
          ],
          "name": "stdout"
        }
      ]
    },
    {
      "cell_type": "code",
      "metadata": {
        "colab": {
          "base_uri": "https://localhost:8080/"
        },
        "id": "5kdGzaovvMe3",
        "outputId": "f159098f-ca50-4682-dd26-a870de184891"
      },
      "source": [
        "def Merge(dict1, dict2):\r\n",
        "    return(dict2.update(dict1))\r\n",
        "dict1 = {'p': 20, 'q': 18}\r\n",
        "dict2 = {'r': 10, 's': 5}\r\n",
        "print(Merge(dict1, dict2))\r\n",
        "print(dict2)"
      ],
      "execution_count": 1,
      "outputs": [
        {
          "output_type": "stream",
          "text": [
            "None\n",
            "{'r': 10, 's': 5, 'p': 20, 'q': 18}\n"
          ],
          "name": "stdout"
        }
      ]
    }
  ]
}