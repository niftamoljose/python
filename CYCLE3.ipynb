{
  "nbformat": 4,
  "nbformat_minor": 0,
  "metadata": {
    "colab": {
      "name": "CYCLE3.ipynb",
      "provenance": [],
      "collapsed_sections": [],
      "authorship_tag": "ABX9TyNYbr5KuSRJCCHpy2Spo9Ag",
      "include_colab_link": true
    },
    "kernelspec": {
      "name": "python3",
      "display_name": "Python 3"
    }
  },
  "cells": [
    {
      "cell_type": "markdown",
      "metadata": {
        "id": "view-in-github",
        "colab_type": "text"
      },
      "source": [
        "<a href=\"https://colab.research.google.com/github/niftamoljose/python/blob/main/CYCLE3.ipynb\" target=\"_parent\"><img src=\"https://colab.research.google.com/assets/colab-badge.svg\" alt=\"Open In Colab\"/></a>"
      ]
    },
    {
      "cell_type": "code",
      "metadata": {
        "colab": {
          "base_uri": "https://localhost:8080/"
        },
        "id": "MJjKGzCeoc2J",
        "outputId": "ee9a8363-cf1f-441b-a2bb-4c7214170c0f"
      },
      "source": [
        "#1\r\n",
        "num=int(input(\"enter the number:\"))\r\n",
        "factorial=1\r\n",
        "if num<0:\r\n",
        "  print(\"sorry,enter a positive number\")\r\n",
        "elif num==0:\r\n",
        "  print(\"factorial of 0 is 1\")\r\n",
        "else:\r\n",
        "  for i in range(1,num+1):\r\n",
        "   factorial=factorial*i\r\n",
        "print(\"factorial of\",num,\"is\",factorial)"
      ],
      "execution_count": null,
      "outputs": [
        {
          "output_type": "stream",
          "text": [
            "enter the number:4\n",
            "factorial of 4 is 24\n"
          ],
          "name": "stdout"
        }
      ]
    },
    {
      "cell_type": "code",
      "metadata": {
        "colab": {
          "base_uri": "https://localhost:8080/"
        },
        "id": "dUYGDghniUxY",
        "outputId": "ca73bdb2-8795-45c2-f5a1-09430b4dd06a"
      },
      "source": [
        "#2\r\n",
        "nterms=int(input(\"How many terms you want:\"))\r\n",
        "n1=0\r\n",
        "n2=1\r\n",
        "count=1\r\n",
        "if nterms<=0:\r\n",
        "  print(\"enter positive numbers\")\r\n",
        "elif nterms==1:\r\n",
        "  print(\"the fibonacci series is:\")\r\n",
        "  print(n1)\r\n",
        "else:\r\n",
        "  print(\"fibonacci series is:\") \r\n",
        "  print(n1,\",\",n2,end=\",\")\r\n",
        "  while count<nterms:\r\n",
        "   nth=n1+n2\r\n",
        "   print(nth,end=\",\")\r\n",
        "   n1=n2\r\n",
        "   n2=nth\r\n",
        "   count +=1   "
      ],
      "execution_count": null,
      "outputs": [
        {
          "output_type": "stream",
          "text": [
            "How many terms you want:10\n",
            "fibonacci series is:\n",
            "0 , 1,1,2,3,5,8,13,21,34,55,"
          ],
          "name": "stdout"
        }
      ]
    },
    {
      "cell_type": "code",
      "metadata": {
        "colab": {
          "base_uri": "https://localhost:8080/"
        },
        "id": "EIMfZ_ZgpfMS",
        "outputId": "d62e1c7d-de91-46de-b24a-09ce773f53d9"
      },
      "source": [
        "#3\r\n",
        "list=[1,2,3,4,5]\r\n",
        "total=0\r\n",
        "for element in range(0,len(list)):\r\n",
        "   total=total+list[element]\r\n",
        "print(\"the sum is:\",total)\r\n",
        "  "
      ],
      "execution_count": null,
      "outputs": [
        {
          "output_type": "stream",
          "text": [
            "the sum is: 15\n"
          ],
          "name": "stdout"
        }
      ]
    },
    {
      "cell_type": "code",
      "metadata": {
        "colab": {
          "base_uri": "https://localhost:8080/"
        },
        "id": "f4Z6z7-mnJFH",
        "outputId": "a06096b4-5714-4221-d31c-171cb78729c6"
      },
      "source": [
        "#9\r\n",
        "n=5;\r\n",
        "for i in range(n):\r\n",
        "    for j in range(i):\r\n",
        "        print ('* ', end=\"\")\r\n",
        "    print('')\r\n",
        "\r\n",
        "for i in range(n,0,-1):\r\n",
        "    for j in range(i):\r\n",
        "        print('* ', end=\"\")\r\n",
        "    print('')"
      ],
      "execution_count": null,
      "outputs": [
        {
          "output_type": "stream",
          "text": [
            "\n",
            "* \n",
            "* * \n",
            "* * * \n",
            "* * * * \n",
            "* * * * * \n",
            "* * * * \n",
            "* * * \n",
            "* * \n",
            "* \n"
          ],
          "name": "stdout"
        }
      ]
    },
    {
      "cell_type": "code",
      "metadata": {
        "colab": {
          "base_uri": "https://localhost:8080/"
        },
        "id": "vVMMbEoVsoeU",
        "outputId": "148adffb-765d-4462-e7fd-964263c18da8"
      },
      "source": [
        "#6\r\n",
        "def char_frequency(str1):\r\n",
        "    dict = {}\r\n",
        "    for n in str1:\r\n",
        "        keys = dict.keys()\r\n",
        "        if n in keys:\r\n",
        "            dict[n] += 1\r\n",
        "        else:\r\n",
        "            dict[n] = 1\r\n",
        "    return dict\r\n",
        "print(char_frequency('character'))\r\n"
      ],
      "execution_count": null,
      "outputs": [
        {
          "output_type": "stream",
          "text": [
            "{'c': 2, 'h': 1, 'a': 2, 'r': 2, 't': 1, 'e': 1}\n"
          ],
          "name": "stdout"
        }
      ]
    },
    {
      "cell_type": "code",
      "metadata": {
        "colab": {
          "base_uri": "https://localhost:8080/"
        },
        "id": "DisHBu4x_96I",
        "outputId": "598fdb11-5344-4f09-e6c0-3450fb1afa17"
      },
      "source": [
        "#5\r\n",
        "rows = int(input(\"Enter the number of rows: \"))  \r\n",
        "for i in range(1, n):  \r\n",
        "    for j in range(1, i + 1):   \r\n",
        "        print(i * j, end='  ')  \r\n",
        "    print()  "
      ],
      "execution_count": null,
      "outputs": [
        {
          "output_type": "stream",
          "text": [
            "Enter the number of rows: 4\n",
            "1  \n",
            "2  4  \n",
            "3  6  9  \n",
            "4  8  12  16  \n"
          ],
          "name": "stdout"
        }
      ]
    },
    {
      "cell_type": "code",
      "metadata": {
        "colab": {
          "base_uri": "https://localhost:8080/"
        },
        "id": "xg47rBhMCVpM",
        "outputId": "563357b3-8aa0-422d-a61b-9dbf91c07563"
      },
      "source": [
        "#7\r\n",
        "def add_string(str1):\r\n",
        "  length = len(str1)\r\n",
        "\r\n",
        "  if length > 2:\r\n",
        "    if str1[-3:] == 'ing':\r\n",
        "      str1 += 'ly'\r\n",
        "    else:\r\n",
        "      str1 += 'ing'\r\n",
        "\r\n",
        "  return str1\r\n",
        "print(add_string('play'))\r\n",
        "print(add_string('fly'))\r\n",
        "print(add_string('playing'))\r\n"
      ],
      "execution_count": null,
      "outputs": [
        {
          "output_type": "stream",
          "text": [
            "playing\n",
            "flying\n",
            "playingly\n"
          ],
          "name": "stdout"
        }
      ]
    },
    {
      "cell_type": "code",
      "metadata": {
        "colab": {
          "base_uri": "https://localhost:8080/"
        },
        "id": "HVsiHx1eC7JR",
        "outputId": "6a1dcb0b-8fc8-46b0-8a87-45ec15396321"
      },
      "source": [
        "#8\r\n",
        "def find_longest_word(words_list):\r\n",
        "    word_len = []\r\n",
        "    for n in words_list:\r\n",
        "        word_len.append((len(n), n))\r\n",
        "    word_len.sort()\r\n",
        "    return word_len[-1][0], word_len[-1][1]\r\n",
        "result = find_longest_word([\"January\", \"February\", \"March\",\"April\"])\r\n",
        "print(\"\\nLongest word: \",result[1])\r\n",
        "print(\"Length of the longest word: \",result[0])\r\n"
      ],
      "execution_count": null,
      "outputs": [
        {
          "output_type": "stream",
          "text": [
            "\n",
            "Longest word:  February\n",
            "Length of the longest word:  8\n"
          ],
          "name": "stdout"
        }
      ]
    },
    {
      "cell_type": "code",
      "metadata": {
        "colab": {
          "base_uri": "https://localhost:8080/"
        },
        "id": "0wQmSP3TEQkb",
        "outputId": "cca4260f-7bd5-4b48-db8b-652a32827a75"
      },
      "source": [
        "#10\r\n",
        "num=int(input(\"enter a number:\"))\r\n",
        "def print_factors(x):\r\n",
        "   print(\"The factors of\",x,\"are:\")\r\n",
        "   for i in range(1, x + 1):\r\n",
        "       if x % i == 0:\r\n",
        "           print(i)\r\n",
        "print_factors(num)"
      ],
      "execution_count": null,
      "outputs": [
        {
          "output_type": "stream",
          "text": [
            "enter a number:16\n",
            "The factors of 16 are:\n",
            "1\n",
            "2\n",
            "4\n",
            "8\n",
            "16\n"
          ],
          "name": "stdout"
        }
      ]
    },
    {
      "cell_type": "code",
      "metadata": {
        "id": "eyq4xcuOFN71",
        "colab": {
          "base_uri": "https://localhost:8080/"
        },
        "outputId": "579237d9-ebb5-459b-9e3a-62872d864691"
      },
      "source": [
        "#4\r\n",
        "items=[]\r\n",
        "for i in range(1000,10000,1):\r\n",
        "   for j in range(32,100,1):\r\n",
        "     if i==j*j:\r\n",
        "        p=str(i)\r\n",
        "         \r\n",
        "        if int(p[0])%2==0 and int(p[1])%2==0 and int(p[3])%2==0:\r\n",
        "           items.append(p)\r\n",
        "print(\"list of perfect squares from the range 1000 to 10000 is:\",items)          "
      ],
      "execution_count": 2,
      "outputs": [
        {
          "output_type": "stream",
          "text": [
            "list of perfect squares from the range 1000 to 10000 is: ['4096', '4624', '6084', '6400', '8464', '8836']\n"
          ],
          "name": "stdout"
        }
      ]
    },
    {
      "cell_type": "code",
      "metadata": {
        "colab": {
          "base_uri": "https://localhost:8080/"
        },
        "id": "0CObeVkCQcej",
        "outputId": "97183701-9aaf-45fe-9b16-2a7398ae6379"
      },
      "source": [
        "#11\r\n",
        "x=lambda a:a*a\r\n",
        "y=lambda b,l:b*l\r\n",
        "z=lambda b,h:1/2*b*h\r\n",
        "print(\"area of square(5,5):\",x(5))\r\n",
        "print(\"area of  rectangle(20,9):\",y(20,9))\r\n",
        "print(\"area of  triangle(3,4):\",z(3,4))"
      ],
      "execution_count": 15,
      "outputs": [
        {
          "output_type": "stream",
          "text": [
            "area of square(5,5): 25\n",
            "area of  rectangle(20,9): 180\n",
            "area of  triangle(3,4): 6.0\n"
          ],
          "name": "stdout"
        }
      ]
    }
  ]
}